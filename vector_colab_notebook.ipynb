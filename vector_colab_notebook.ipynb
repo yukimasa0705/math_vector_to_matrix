{
  "cells": [
    {
      "cell_type": "markdown",
      "metadata": {
        "id": "view-in-github",
        "colab_type": "text"
      },
      "source": [
        "<a href=\"https://colab.research.google.com/github/yukimasa0705/math_vector_to_matrix/blob/main/vector_colab_notebook.ipynb\" target=\"_parent\"><img src=\"https://colab.research.google.com/assets/colab-badge.svg\" alt=\"Open In Colab\"/></a>"
      ]
    },
    {
      "cell_type": "markdown",
      "metadata": {
        "id": "OYKWswU_j-2C"
      },
      "source": [
        "# ベクトル応用パーフェクト演習ノート\n",
        "このノートは、ベクトルの基本から応用までを演習形式で学ぶためのものです。\n",
        "Google Colabで開いて、セルを実行しながら進めてください。"
      ],
      "id": "OYKWswU_j-2C"
    },
    {
      "cell_type": "markdown",
      "metadata": {
        "id": "JllP2Ic5j-2F"
      },
      "source": [
        "## ✅ 0. 準備\n",
        "必要なライブラリをインポートしておきましょう。"
      ],
      "id": "JllP2Ic5j-2F"
    },
    {
      "cell_type": "code",
      "metadata": {
        "id": "x2GtQ8xSj-2G"
      },
      "source": [
        "import numpy as np\n",
        "from sympy import symbols, Eq, solve, init_printing\n",
        "init_printing()"
      ],
      "execution_count": null,
      "outputs": [],
      "id": "x2GtQ8xSj-2G"
    },
    {
      "cell_type": "markdown",
      "metadata": {
        "id": "KyTKmE5Qj-2H"
      },
      "source": [
        "## 🔁 1. ベクトルの直交条件\n",
        "ベクトルが直交する（垂直になる）条件は「内積が0になる」ことです。\n",
        "\n",
        "例題：ベクトル $A = [1, x, 2]$ と $B = [-1, 2, 1]$ が直交するとき、xの値を求めよ。"
      ],
      "id": "KyTKmE5Qj-2H"
    },
    {
      "cell_type": "code",
      "metadata": {
        "id": "bzycDzdJj-2H",
        "outputId": "9809d3e9-359d-4140-a9de-c3e4b5241fa7",
        "colab": {
          "base_uri": "https://localhost:8080/",
          "height": 38
        }
      },
      "source": [
        "x = symbols('x')\n",
        "A = np.array([1, x, 2])\n",
        "B = np.array([-1, 2, 1])\n",
        "inner_product = A[0]*B[0] + A[1]*B[1] + A[2]*B[2]\n",
        "Eq(inner_product, 0)"
      ],
      "execution_count": null,
      "outputs": [
        {
          "output_type": "execute_result",
          "data": {
            "text/plain": [
              "2⋅x + 1 = 0"
            ],
            "text/latex": "$\\displaystyle 2 x + 1 = 0$"
          },
          "metadata": {},
          "execution_count": 2
        }
      ],
      "id": "bzycDzdJj-2H"
    },
    {
      "cell_type": "code",
      "metadata": {
        "id": "EmfMD6_kj-2H",
        "outputId": "064a4519-fb10-4a19-dc38-2bd8abf537bd",
        "colab": {
          "base_uri": "https://localhost:8080/",
          "height": 58
        }
      },
      "source": [
        "solve(Eq(inner_product, 0), x)"
      ],
      "execution_count": null,
      "outputs": [
        {
          "output_type": "execute_result",
          "data": {
            "text/plain": [
              "[-1/2]"
            ],
            "text/latex": "$\\displaystyle \\left[ - \\frac{1}{2}\\right]$"
          },
          "metadata": {},
          "execution_count": 3
        }
      ],
      "id": "EmfMD6_kj-2H"
    },
    {
      "cell_type": "markdown",
      "source": [
        "## 📐 2. ベクトルの投影（しゃえい）\n",
        "\n",
        "### ✅ ベクトルの投影って何なん？\n",
        "\n",
        "ベクトルAを、ベクトルBの**方向だけに向かって“落とし込む”**ことを「B方向への投影（しゃえい）」って言うねん。  \n",
        "イメージとしては、太陽の光に照らされて地面に影ができるみたいに、「Aの影をBの方向に落としたらどんなんになる？」っていう感じ。\n",
        "\n",
        "たとえば、坂道（B）にボールを転がしたときに、「どれくらいの力（A）が坂道の方向に向かって働いてるか？」を知りたいときに使えるんや。\n",
        "\n",
        "---\n",
        "\n",
        "### 📏 数式の意味\n",
        "\n",
        "投影の式はこうや：\n",
        "\n",
        "$$\n",
        "\\text{proj}_B(A) = \\frac{A \\cdot B}{|B|^2} \\cdot B\n",
        "$$\n",
        "\n",
        "\n",
        "これを分解して解説すると：\n",
        "\n",
        "- $(\\mathbf{A} \\cdot \\mathbf{B})$：AとBの**内積**。これはAとBのなす角度によって変わる。角度が小さいほど値が大きくなる。つまり「AがどれだけBに向かってるか？」を数値で出してくれる。\n",
        "-$(|\\mathbf{B}|^2)$：ベクトルBの長さの2乗。内積の結果をBの大きさで調整するために必要やねん。\n",
        "- 全体として：Bの方向に向かって、Aがどれくらい“寄り添ってるか”を示すベクトルになる。\n",
        "\n",
        "---\n",
        "\n",
        "\n",
        "### 🔍 どこで使うん？\n",
        "\n",
        "- **物理**：力の分解（たとえば坂道の上にモノを置いたとき）\n",
        "- **機械学習**：主成分分析（PCA）とかで、高次元のデータを低次元に落とし込むとき\n",
        "- **CG/ゲーム**：物体の動きや光の方向を計算するとき\n",
        "\n",
        "---\n",
        "\n",
        "### 🗣 まとめると！\n",
        "\n",
        "- 投影は「ベクトルを他のベクトルの方向に落とし込んだらどうなるか？」っていう操作\n",
        "- 方向を抜き出すのに使える\n",
        "- 式は一見難しそうやけど、内積とスケーリングで成り立ってる\n",
        "- SymPyなら「式のまま」「意味を保ったまま」計算できるから理解にもバッチリ！\n"
      ],
      "metadata": {
        "id": "ber0_iGtZoCS"
      },
      "id": "ber0_iGtZoCS"
    },
    {
      "cell_type": "code",
      "metadata": {
        "id": "5DYAfJdQj-2I",
        "colab": {
          "base_uri": "https://localhost:8080/",
          "height": 58
        },
        "outputId": "9eda4ede-8683-4217-eb2d-425a36e615a1"
      },
      "source": [
        "from sympy import symbols, Matrix, simplify\n",
        "\n",
        "# ベクトルAとBを定義\n",
        "A = Matrix([3, 4])\n",
        "B = Matrix([1, 2])\n",
        "\n",
        "# 内積とBのノルムの2乗\n",
        "dot_product = A.dot(B)\n",
        "norm_squared = B.dot(B)\n",
        "\n",
        "# 投影ベクトルの計算\n",
        "projection = simplify((dot_product / norm_squared) * B)\n",
        "\n",
        "projection\n"
      ],
      "execution_count": null,
      "outputs": [
        {
          "output_type": "execute_result",
          "data": {
            "text/plain": [
              "⎡11/5⎤\n",
              "⎢    ⎥\n",
              "⎣22/5⎦"
            ],
            "text/latex": "$\\displaystyle \\left[\\begin{matrix}\\frac{11}{5}\\\\\\frac{22}{5}\\end{matrix}\\right]$"
          },
          "metadata": {},
          "execution_count": 9
        }
      ],
      "id": "5DYAfJdQj-2I"
    },
    {
      "cell_type": "markdown",
      "metadata": {
        "id": "ny8wVzj-j-2I"
      },
      "source": [
        "### ✏️ 3. ベクトル方程式と直線\n",
        "\n",
        "### ✅ ベクトル方程式とは？\n",
        "ベクトル方程式っちゅうのは、**空間や平面の中で直線や平面の位置を、ベクトル（向きと大きさを持つ矢印）を使って表す方法**やねん。\n",
        "\n",
        "たとえば、「ある点を通って、ある方向に伸びる直線」って聞いたら、それってちょうど「位置ベクトル」と「方向ベクトル」で表現できるやろ？\n",
        "\n",
        "---\n",
        "\n",
        "### 📘 ベクトル方程式の基本形\n",
        "\n",
        "直線のベクトル方程式は、こんな形で表される：\n",
        "\n",
        "$$\n",
        "\\vec{r}(t) = \\vec{P} + t \\vec{d}\n",
        "$$\n",
        "\n",
        "- $\\vec{P}$：出発点（通る点）を示す位置ベクトル（ここでは点 $P=(1,2,3)$）\n",
        "- $\\vec{d}$：進む方向を表す方向ベクトル（ここでは $d=(2,-1,4)$）\n",
        "- $t$：実数。これを変えることで、直線上のいろんな点を表せる\n",
        "\n",
        "---\n",
        "\n",
        "### 🧮 例題\n",
        "\n",
        "点 $P=(1,2,3)$ を通り、方向ベクトル $d=(2,-1,4)$ に沿った直線のベクトル方程式は：\n",
        "\n",
        "$$\n",
        "\\vec{r}(t) = \\begin{pmatrix}1\\\\2\\\\3\\end{pmatrix} + t \\begin{pmatrix}2\\\\-1\\\\4\\end{pmatrix}\n",
        "$$\n",
        "\n",
        "これはつまり、t にいろんな値を入れることで直線上の点を表していけるってことや。\n",
        "\n",
        "たとえば：\n",
        "\n",
        "- $t = 0$ のとき：$\\vec{r}(0) = (1,2,3)$（出発点）\n",
        "- $t = 1$ のとき：$\\vec{r}(1) = (3,1,7)$\n",
        "- $t = -1$ のとき：$\\vec{r}(-1) = (-1,3,-1)$\n",
        "\n",
        "---\n",
        "\n",
        "つまり、$t$ を動かすと、点 $P$ からベクトル $d$ の方向にどんどん進んでいく線になるっちゅうわけやね！\n"
      ],
      "id": "ny8wVzj-j-2I"
    },
    {
      "cell_type": "markdown",
      "source": [
        "### 📝 演習問題 1: 直線の方程式\n",
        "\n",
        "点 \\( P = (1, 2, 3) \\) を通り、方向ベクトル \\( d = (4, -1, 2) \\) に沿った直線のベクトル方程式を求めよ。\n",
        "\n",
        "その後、\\( t = 2, 3, 4 \\) のときの直線上の点を計算し、プロットしてみてな！\n",
        "\n",
        "---\n",
        "\n",
        "### 📝 演習問題 2: 直線と平面の交点\n",
        "\n",
        "平面の方程式 \\( 2x + y - z = 4 \\) と、点 \\( P = (1, 2, 3) \\) を通り、方向ベクトル \\( d = (1, 1, -1) \\) に沿った直線の交点を求めよ。\n",
        "\n",
        "つまり、直線と平面の交点を求めるという問題やな。交点があるかどうか、計算してみよう！\n",
        "\n",
        "---\n",
        "\n",
        "### 📝 演習問題 3: ベクトル方程式を使った距離計算\n",
        "\n",
        "点 \\( P = (1, 1, 1) \\) から直線 \\( \\vec{r}(t) = (2, 2, 2) + t(1, 1, 1) \\) までの距離を求めよ。\n",
        "\n",
        "直線から点までの最短距離を計算する問題やけど、このベクトル方程式を使うとスムーズにいくはずや！\n"
      ],
      "metadata": {
        "id": "qt9UYIPedncU"
      },
      "id": "qt9UYIPedncU"
    },
    {
      "cell_type": "markdown",
      "source": [
        "二問目\n",
        "\n",
        "点 $P=(1,2,3)$ を通り、方向ベクトル $d=(1, 1, -1) $ に沿った直線のベクトル方程式は：\n",
        "\n",
        "$$\n",
        "\\vec{r}(t) = \\begin{pmatrix}1\\\\2\\\\3\\end{pmatrix} + t \\begin{pmatrix}1\\\\1\\\\-1\\end{pmatrix}\n",
        "$$"
      ],
      "metadata": {
        "id": "loEv9YvBJSkz"
      },
      "id": "loEv9YvBJSkz"
    },
    {
      "cell_type": "code",
      "source": [
        "from sympy import symbols, Eq, solve\n",
        "\n",
        "# シンボルの定義\n",
        "t = symbols('t')\n",
        "\n",
        "# 直線の式（x, y, z）\n",
        "x = 1 + t\n",
        "y = 2 + t\n",
        "z = 3 - t\n",
        "\n",
        "# 平面の式：2x + y - z = 4 に代入\n",
        "plane_eq = Eq(2*x + y - z, 4)\n",
        "\n",
        "# t を解く\n",
        "t_sol = solve(plane_eq, t)[0]\n",
        "print(f\"tの解は: {t_sol}\")\n",
        "# 解を直線の式に代入して交点を求める\n",
        "intersection_point = (x.subs(t, t_sol), y.subs(t, t_sol), z.subs(t, t_sol))\n",
        "\n",
        "print(f\"交点の座標は: {intersection_point}\")\n"
      ],
      "metadata": {
        "id": "0OKYnVVoRYt-",
        "outputId": "a69506a4-91a5-4225-92ed-890f6eab676d",
        "colab": {
          "base_uri": "https://localhost:8080/"
        }
      },
      "id": "0OKYnVVoRYt-",
      "execution_count": null,
      "outputs": [
        {
          "output_type": "stream",
          "name": "stdout",
          "text": [
            "tの解は: 3/4\n",
            "交点の座標は: (7/4, 11/4, 9/4)\n"
          ]
        }
      ]
    },
    {
      "cell_type": "code",
      "source": [
        "import numpy as np\n",
        "import matplotlib.pyplot as plt\n",
        "from mpl_toolkits.mplot3d import Axes3D\n",
        "\n",
        "# 初期の点（通る点）と方向ベクトル\n",
        "P = np.array([1, 2, 3])\n",
        "d = np.array([4, -1, 2])\n",
        "\n",
        "# tの値\n",
        "t_values = [2, 3, 4]\n",
        "\n",
        "# 各tにおける直線上の点を計算\n",
        "points = [P + t * d for t in t_values]\n",
        "\n",
        "# 点を出力\n",
        "for i, t in enumerate(t_values):\n",
        "    print(f\"t = {t} → 点: {points[i]}\")\n"
      ],
      "metadata": {
        "colab": {
          "base_uri": "https://localhost:8080/"
        },
        "id": "CH0GAKqnLqy9",
        "outputId": "4b792906-4e8e-449d-ed28-9c681a46face"
      },
      "id": "CH0GAKqnLqy9",
      "execution_count": null,
      "outputs": [
        {
          "output_type": "stream",
          "name": "stdout",
          "text": [
            "t = 2 → 点: [9 0 7]\n",
            "t = 3 → 点: [13 -1  9]\n",
            "t = 4 → 点: [17 -2 11]\n"
          ]
        }
      ]
    },
    {
      "cell_type": "code",
      "source": [
        "# x, y, zをそれぞれ抽出\n",
        "x_vals = [point[0] for point in points]\n",
        "y_vals = [point[1] for point in points]\n",
        "z_vals = [point[2] for point in points]\n",
        "\n",
        "fig = plt.figure()\n",
        "ax = fig.add_subplot(111, projection='3d')\n",
        "\n",
        "# 直線の点を線で結ぶ\n",
        "ax.plot(x_vals, y_vals, z_vals, label='直線上の点 (t=2,3,4)', marker='o')\n",
        "\n",
        "# 元の点Pもプロットしてみよう\n",
        "ax.scatter(*P, color='red', label='始点 P = (1,2,3)', s=100)\n",
        "\n",
        "# ラベルと凡例\n",
        "ax.set_xlabel('X')\n",
        "ax.set_ylabel('Y')\n",
        "ax.set_zlabel('Z')\n",
        "ax.legend()\n",
        "ax.set_title('直線のベクトル方程式に沿った点たち')\n",
        "\n",
        "plt.show()\n"
      ],
      "metadata": {
        "colab": {
          "base_uri": "https://localhost:8080/",
          "height": 1000
        },
        "id": "IlUGrfGBMBaM",
        "outputId": "890088d5-d00e-4642-c4d6-3c37f15e9826"
      },
      "id": "IlUGrfGBMBaM",
      "execution_count": null,
      "outputs": [
        {
          "output_type": "stream",
          "name": "stderr",
          "text": [
            "/usr/local/lib/python3.11/dist-packages/IPython/core/pylabtools.py:151: UserWarning: Glyph 30452 (\\N{CJK UNIFIED IDEOGRAPH-76F4}) missing from font(s) DejaVu Sans.\n",
            "  fig.canvas.print_figure(bytes_io, **kw)\n",
            "/usr/local/lib/python3.11/dist-packages/IPython/core/pylabtools.py:151: UserWarning: Glyph 32218 (\\N{CJK UNIFIED IDEOGRAPH-7DDA}) missing from font(s) DejaVu Sans.\n",
            "  fig.canvas.print_figure(bytes_io, **kw)\n",
            "/usr/local/lib/python3.11/dist-packages/IPython/core/pylabtools.py:151: UserWarning: Glyph 12398 (\\N{HIRAGANA LETTER NO}) missing from font(s) DejaVu Sans.\n",
            "  fig.canvas.print_figure(bytes_io, **kw)\n",
            "/usr/local/lib/python3.11/dist-packages/IPython/core/pylabtools.py:151: UserWarning: Glyph 12505 (\\N{KATAKANA LETTER BE}) missing from font(s) DejaVu Sans.\n",
            "  fig.canvas.print_figure(bytes_io, **kw)\n",
            "/usr/local/lib/python3.11/dist-packages/IPython/core/pylabtools.py:151: UserWarning: Glyph 12463 (\\N{KATAKANA LETTER KU}) missing from font(s) DejaVu Sans.\n",
            "  fig.canvas.print_figure(bytes_io, **kw)\n",
            "/usr/local/lib/python3.11/dist-packages/IPython/core/pylabtools.py:151: UserWarning: Glyph 12488 (\\N{KATAKANA LETTER TO}) missing from font(s) DejaVu Sans.\n",
            "  fig.canvas.print_figure(bytes_io, **kw)\n",
            "/usr/local/lib/python3.11/dist-packages/IPython/core/pylabtools.py:151: UserWarning: Glyph 12523 (\\N{KATAKANA LETTER RU}) missing from font(s) DejaVu Sans.\n",
            "  fig.canvas.print_figure(bytes_io, **kw)\n",
            "/usr/local/lib/python3.11/dist-packages/IPython/core/pylabtools.py:151: UserWarning: Glyph 26041 (\\N{CJK UNIFIED IDEOGRAPH-65B9}) missing from font(s) DejaVu Sans.\n",
            "  fig.canvas.print_figure(bytes_io, **kw)\n",
            "/usr/local/lib/python3.11/dist-packages/IPython/core/pylabtools.py:151: UserWarning: Glyph 31243 (\\N{CJK UNIFIED IDEOGRAPH-7A0B}) missing from font(s) DejaVu Sans.\n",
            "  fig.canvas.print_figure(bytes_io, **kw)\n",
            "/usr/local/lib/python3.11/dist-packages/IPython/core/pylabtools.py:151: UserWarning: Glyph 24335 (\\N{CJK UNIFIED IDEOGRAPH-5F0F}) missing from font(s) DejaVu Sans.\n",
            "  fig.canvas.print_figure(bytes_io, **kw)\n",
            "/usr/local/lib/python3.11/dist-packages/IPython/core/pylabtools.py:151: UserWarning: Glyph 12395 (\\N{HIRAGANA LETTER NI}) missing from font(s) DejaVu Sans.\n",
            "  fig.canvas.print_figure(bytes_io, **kw)\n",
            "/usr/local/lib/python3.11/dist-packages/IPython/core/pylabtools.py:151: UserWarning: Glyph 27839 (\\N{CJK UNIFIED IDEOGRAPH-6CBF}) missing from font(s) DejaVu Sans.\n",
            "  fig.canvas.print_figure(bytes_io, **kw)\n",
            "/usr/local/lib/python3.11/dist-packages/IPython/core/pylabtools.py:151: UserWarning: Glyph 12387 (\\N{HIRAGANA LETTER SMALL TU}) missing from font(s) DejaVu Sans.\n",
            "  fig.canvas.print_figure(bytes_io, **kw)\n",
            "/usr/local/lib/python3.11/dist-packages/IPython/core/pylabtools.py:151: UserWarning: Glyph 12383 (\\N{HIRAGANA LETTER TA}) missing from font(s) DejaVu Sans.\n",
            "  fig.canvas.print_figure(bytes_io, **kw)\n",
            "/usr/local/lib/python3.11/dist-packages/IPython/core/pylabtools.py:151: UserWarning: Glyph 28857 (\\N{CJK UNIFIED IDEOGRAPH-70B9}) missing from font(s) DejaVu Sans.\n",
            "  fig.canvas.print_figure(bytes_io, **kw)\n",
            "/usr/local/lib/python3.11/dist-packages/IPython/core/pylabtools.py:151: UserWarning: Glyph 12385 (\\N{HIRAGANA LETTER TI}) missing from font(s) DejaVu Sans.\n",
            "  fig.canvas.print_figure(bytes_io, **kw)\n",
            "/usr/local/lib/python3.11/dist-packages/IPython/core/pylabtools.py:151: UserWarning: Glyph 19978 (\\N{CJK UNIFIED IDEOGRAPH-4E0A}) missing from font(s) DejaVu Sans.\n",
            "  fig.canvas.print_figure(bytes_io, **kw)\n",
            "/usr/local/lib/python3.11/dist-packages/IPython/core/pylabtools.py:151: UserWarning: Glyph 22987 (\\N{CJK UNIFIED IDEOGRAPH-59CB}) missing from font(s) DejaVu Sans.\n",
            "  fig.canvas.print_figure(bytes_io, **kw)\n"
          ]
        },
        {
          "output_type": "display_data",
          "data": {
            "text/plain": [
              "<Figure size 640x480 with 1 Axes>"
            ],
            "image/png": "[encoded data removed]"
          },
          "metadata": {}
        }
      ]
    },
    {
      "cell_type": "markdown",
      "metadata": {
        "id": "-gyKbZU7j-2J"
      },
      "source": [
        "## 🧮 4. 外積と平行四辺形の面積\n",
        "ベクトル $A$ と $B$ が張る平行四辺形の面積は、外積の大きさです。\n",
        "$$|\\vec{A} \\times \\vec{B}|$$"
      ],
      "id": "-gyKbZU7j-2J"
    },
    {
      "cell_type": "code",
      "metadata": {
        "id": "r98Ia8SRj-2J"
      },
      "source": [
        "A = np.array([1,2,3])\n",
        "B = np.array([4,5,6])\n",
        "np.linalg.norm(np.cross(A, B))"
      ],
      "execution_count": null,
      "outputs": [],
      "id": "r98Ia8SRj-2J"
    },
    {
      "cell_type": "markdown",
      "metadata": {
        "id": "yW_ckF0Bj-2J"
      },
      "source": [
        "## 🧊 5. 三重積と平行六面体の体積\n",
        "$$|\\vec{A} \\cdot (\\vec{B} \\times \\vec{C})|$$\n",
        "が体積になります。"
      ],
      "id": "yW_ckF0Bj-2J"
    },
    {
      "cell_type": "code",
      "metadata": {
        "id": "r0NszSEZj-2J"
      },
      "source": [
        "C = np.array([7,8,9])\n",
        "abs(np.dot(A, np.cross(B, C)))"
      ],
      "execution_count": null,
      "outputs": [],
      "id": "r0NszSEZj-2J"
    },
    {
      "cell_type": "markdown",
      "metadata": {
        "id": "m3ii71sfj-2K"
      },
      "source": [
        "## 📝 演習問題（自分でやってみよう）\n",
        "- ベクトル $A = [2, x, 5]$ が $B = [1, 3, 2]$ と直交するとき、xの値を求めよ。\n",
        "- ベクトル $A = [1, 2]$ を $B = [2, -2]$ に射影せよ。\n",
        "- 点 $(2,0,1)$ を通り、ベクトル $(1,2,2)$ に沿った直線の方程式を導け。"
      ],
      "id": "m3ii71sfj-2K"
    },
    {
      "cell_type": "code",
      "metadata": {
        "id": "FyMZCSZoj-2K",
        "colab": {
          "base_uri": "https://localhost:8080/",
          "height": 37
        },
        "outputId": "a4b04703-fe75-4eca-c87d-db09bf528cac"
      },
      "source": [
        "# ここに自分で書いてみよう！\n",
        "# 一問目\n",
        "x = symbols('x')\n",
        "A = np.array([2,x,5])\n",
        "B = np.array([1,3,2])\n",
        "inner_product = A[0]*B[0] + A[1]*B[1] + A[2]*B[2]\n",
        "Eq(inner_product, 0)\n",
        "solve(Eq(inner_product, 0), x)"
      ],
      "execution_count": null,
      "outputs": [
        {
          "output_type": "execute_result",
          "data": {
            "text/plain": [
              "[-4]"
            ],
            "text/latex": "$\\displaystyle \\left[ -4\\right]$"
          },
          "metadata": {},
          "execution_count": 3
        }
      ],
      "id": "FyMZCSZoj-2K"
    },
    {
      "cell_type": "code",
      "source": [
        "# 二問目\n",
        "A = np.array([1,2])\n",
        "B = np.array([2,-2])\n",
        "proj = (np.dot(A, B) / np.dot(B, B)) * B\n",
        "proj"
      ],
      "metadata": {
        "colab": {
          "base_uri": "https://localhost:8080/"
        },
        "id": "n6tu44eT6N2R",
        "outputId": "07bcdccb-4a79-456c-da68-d126a88f6f1f"
      },
      "id": "n6tu44eT6N2R",
      "execution_count": null,
      "outputs": [
        {
          "output_type": "execute_result",
          "data": {
            "text/plain": [
              "array([-0.5,  0.5])"
            ]
          },
          "metadata": {},
          "execution_count": 4
        }
      ]
    },
    {
      "cell_type": "code",
      "source": [
        "# 三問目\n",
        "t = symbols('t')\n",
        "P = np.array([2,0,1])\n",
        "d = np.array([1,2,2])\n",
        "P + t*d\n"
      ],
      "metadata": {
        "colab": {
          "base_uri": "https://localhost:8080/"
        },
        "id": "5WtI5Pe46ZRP",
        "outputId": "3eade6e5-cdd8-42a8-f6ed-9f535e4b9557"
      },
      "id": "5WtI5Pe46ZRP",
      "execution_count": null,
      "outputs": [
        {
          "output_type": "execute_result",
          "data": {
            "text/plain": [
              "array([t + 2, 2*t, 2*t + 1], dtype=object)"
            ]
          },
          "metadata": {},
          "execution_count": 6
        }
      ]
    }
  ],
  "metadata": {
    "kernelspec": {
      "display_name": "Python 3",
      "language": "python",
      "name": "python3"
    },
    "language_info": {
      "name": "python",
      "version": "3.8"
    },
    "colab": {
      "provenance": [],
      "include_colab_link": true
    }
  },
  "nbformat": 4,
  "nbformat_minor": 5
}