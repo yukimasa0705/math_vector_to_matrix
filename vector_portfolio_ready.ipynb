{
  "cells": [
    {
      "cell_type": "markdown",
      "metadata": {
        "id": "view-in-github",
        "colab_type": "text"
      },
      "source": [
        "<a href=\"https://colab.research.google.com/github/yukimasa0705/math_vector_to_matrix/blob/main/vector_portfolio_ready.ipynb\" target=\"_parent\"><img src=\"https://colab.research.google.com/assets/colab-badge.svg\" alt=\"Open In Colab\"/></a>"
      ]
    },
    {
      "cell_type": "markdown",
      "id": "3711f59b",
      "metadata": {
        "id": "3711f59b"
      },
      "source": [
        "\n",
        "# ベクトル入門 ～図で学ぶ線型代数～\n",
        "\n",
        "このノートは、ベクトルの基礎的な概念を「図」と「Pythonコード」で学ぶことを目的としています。\n",
        "ポートフォリオとして、見やすく・わかりやすく・伝わる構成を意識して作っています。\n",
        "\n",
        "---\n"
      ]
    },
    {
      "cell_type": "markdown",
      "id": "490d5a8b",
      "metadata": {
        "id": "490d5a8b"
      },
      "source": [
        "## 1. ベクトルとは？"
      ]
    },
    {
      "cell_type": "markdown",
      "id": "fcde0e62",
      "metadata": {
        "id": "fcde0e62"
      },
      "source": [
        "\n",
        "「ベクトル」は大きさと向きを持った量です。点ではなく、**矢印**のイメージで捉えると理解しやすくなります。\n",
        "PythonではリストやNumPy配列を使ってベクトルを扱うことができます。\n"
      ]
    },
    {
      "cell_type": "code",
      "execution_count": 1,
      "id": "1806bf90",
      "metadata": {
        "id": "1806bf90",
        "outputId": "f62274f9-d407-46f6-9bd4-6de20a8fb3fe",
        "colab": {
          "base_uri": "https://localhost:8080/",
          "height": 599
        }
      },
      "outputs": [
        {
          "output_type": "stream",
          "name": "stderr",
          "text": [
            "/usr/local/lib/python3.11/dist-packages/IPython/core/pylabtools.py:151: UserWarning: Glyph 12505 (\\N{KATAKANA LETTER BE}) missing from font(s) DejaVu Sans.\n",
            "  fig.canvas.print_figure(bytes_io, **kw)\n",
            "/usr/local/lib/python3.11/dist-packages/IPython/core/pylabtools.py:151: UserWarning: Glyph 12463 (\\N{KATAKANA LETTER KU}) missing from font(s) DejaVu Sans.\n",
            "  fig.canvas.print_figure(bytes_io, **kw)\n",
            "/usr/local/lib/python3.11/dist-packages/IPython/core/pylabtools.py:151: UserWarning: Glyph 12488 (\\N{KATAKANA LETTER TO}) missing from font(s) DejaVu Sans.\n",
            "  fig.canvas.print_figure(bytes_io, **kw)\n",
            "/usr/local/lib/python3.11/dist-packages/IPython/core/pylabtools.py:151: UserWarning: Glyph 12523 (\\N{KATAKANA LETTER RU}) missing from font(s) DejaVu Sans.\n",
            "  fig.canvas.print_figure(bytes_io, **kw)\n"
          ]
        },
        {
          "output_type": "display_data",
          "data": {
            "text/plain": [
              "<Figure size 640x480 with 1 Axes>"
            ],
            "image/png": "[encoded data removed]"
          },
          "metadata": {}
        }
      ],
      "source": [
        "\n",
        "import numpy as np\n",
        "import matplotlib.pyplot as plt\n",
        "\n",
        "# ベクトルの描画関数\n",
        "def draw_vector(v, origin=[0, 0], color='r'):\n",
        "    plt.quiver(*origin, *v, angles='xy', scale_units='xy', scale=1, color=color)\n",
        "\n",
        "v = np.array([2, 1])\n",
        "\n",
        "plt.figure()\n",
        "draw_vector(v)\n",
        "plt.xlim(-1, 3)\n",
        "plt.ylim(-1, 3)\n",
        "plt.grid()\n",
        "plt.gca().set_aspect('equal')\n",
        "plt.title(\"ベクトル v = [2, 1]\")\n",
        "plt.show()\n"
      ]
    },
    {
      "cell_type": "markdown",
      "id": "22a90cd6",
      "metadata": {
        "id": "22a90cd6"
      },
      "source": [
        "## 2. ベクトルの加法"
      ]
    },
    {
      "cell_type": "markdown",
      "id": "6af5c766",
      "metadata": {
        "id": "6af5c766"
      },
      "source": [
        "\n",
        "ベクトルは**足し算**できます。たとえば `a = [1, 2]` と `b = [2, -1]` を足すと、\n",
        "結果はそれぞれの成分を足し合わせた `[3, 1]` になります。\n"
      ]
    },
    {
      "cell_type": "code",
      "execution_count": null,
      "id": "f9d0316d",
      "metadata": {
        "id": "f9d0316d"
      },
      "outputs": [],
      "source": [
        "\n",
        "a = np.array([1, 2])\n",
        "b = np.array([2, -1])\n",
        "c = a + b\n",
        "\n",
        "plt.figure()\n",
        "draw_vector(a, color='b')\n",
        "draw_vector(b, origin=a, color='g')\n",
        "draw_vector(c, color='r')\n",
        "plt.xlim(0, 5)\n",
        "plt.ylim(-2, 4)\n",
        "plt.grid()\n",
        "plt.gca().set_aspect('equal')\n",
        "plt.title(\"ベクトルの加算: c = a + b\")\n",
        "plt.show()\n"
      ]
    },
    {
      "cell_type": "markdown",
      "id": "20fb567a",
      "metadata": {
        "id": "20fb567a"
      },
      "source": [
        "## ✅ 演習1：ベクトルの和を求めて図示しよう"
      ]
    },
    {
      "cell_type": "markdown",
      "id": "ccd11ac5",
      "metadata": {
        "id": "ccd11ac5"
      },
      "source": [
        "\n",
        "**問題：** 以下のベクトル `a = [3, 1]`, `b = [-1, 2]` を加算して結果ベクトルを求め、図示してください。\n",
        "\n",
        "<details>\n",
        "<summary>▶️ 解答例（クリックで表示）</summary>\n",
        "\n",
        "```python\n",
        "a = np.array([3, 1])\n",
        "b = np.array([-1, 2])\n",
        "c = a + b\n",
        "\n",
        "plt.figure()\n",
        "draw_vector(a, color='b')\n",
        "draw_vector(b, origin=a, color='g')\n",
        "draw_vector(c, color='r')\n",
        "plt.xlim(0, 5)\n",
        "plt.ylim(0, 5)\n",
        "plt.grid()\n",
        "plt.gca().set_aspect('equal')\n",
        "plt.title(\"演習1の解答\")\n",
        "plt.show()\n",
        "```\n",
        "</details>\n"
      ]
    },
    {
      "cell_type": "code",
      "source": [
        "a = np.array([3, 1])\n",
        "b = np.array( [-1, 2])\n",
        "c = a + b\n",
        "\n",
        "plt.figure()\n",
        "draw_vector(a, color='b')\n",
        "draw_vector(b, origin=a, color='g')\n",
        "draw_vector(c, color='r')\n",
        "plt.xlim(0, 5)\n",
        "plt.ylim(-2, 4)\n",
        "plt.grid()\n",
        "plt.gca().set_aspect('equal')\n",
        "plt.title(\"ベクトルの加算: c = a + b\")\n",
        "plt.show()\n"
      ],
      "metadata": {
        "colab": {
          "base_uri": "https://localhost:8080/",
          "height": 562
        },
        "id": "qPr6VooF4gRO",
        "outputId": "ef428279-6777-4f17-a388-48c36b443eef"
      },
      "id": "qPr6VooF4gRO",
      "execution_count": 3,
      "outputs": [
        {
          "output_type": "stream",
          "name": "stderr",
          "text": [
            "/usr/local/lib/python3.11/dist-packages/IPython/core/pylabtools.py:151: UserWarning: Glyph 12398 (\\N{HIRAGANA LETTER NO}) missing from font(s) DejaVu Sans.\n",
            "  fig.canvas.print_figure(bytes_io, **kw)\n",
            "/usr/local/lib/python3.11/dist-packages/IPython/core/pylabtools.py:151: UserWarning: Glyph 21152 (\\N{CJK UNIFIED IDEOGRAPH-52A0}) missing from font(s) DejaVu Sans.\n",
            "  fig.canvas.print_figure(bytes_io, **kw)\n",
            "/usr/local/lib/python3.11/dist-packages/IPython/core/pylabtools.py:151: UserWarning: Glyph 31639 (\\N{CJK UNIFIED IDEOGRAPH-7B97}) missing from font(s) DejaVu Sans.\n",
            "  fig.canvas.print_figure(bytes_io, **kw)\n"
          ]
        },
        {
          "output_type": "display_data",
          "data": {
            "text/plain": [
              "<Figure size 640x480 with 1 Axes>"
            ],
            "image/png": "[encoded data removed]"
          },
          "metadata": {}
        }
      ]
    },
    {
      "cell_type": "markdown",
      "id": "58bbb74e",
      "metadata": {
        "id": "58bbb74e"
      },
      "source": [
        "## 🎯 次回予告：内積と角度"
      ]
    },
    {
      "cell_type": "markdown",
      "id": "cd7e03dd",
      "metadata": {
        "id": "cd7e03dd"
      },
      "source": [
        "\n",
        "次は「ベクトル同士の角度を求める方法（内積）」について学んでいきます。\n",
        "図を使って、直感的にベクトルの関係を捉えられるようにしていきましょう！\n"
      ]
    }
  ],
  "metadata": {
    "colab": {
      "provenance": [],
      "include_colab_link": true
    },
    "language_info": {
      "name": "python"
    },
    "kernelspec": {
      "name": "python3",
      "display_name": "Python 3"
    }
  },
  "nbformat": 4,
  "nbformat_minor": 5
}