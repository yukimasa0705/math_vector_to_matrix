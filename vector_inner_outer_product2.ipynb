{
  "cells": [
    {
      "cell_type": "markdown",
      "metadata": {
        "id": "view-in-github",
        "colab_type": "text"
      },
      "source": [
        "<a href=\"https://colab.research.google.com/github/yukimasa0705/math/blob/main/vector_inner_outer_product2.ipynb\" target=\"_parent\"><img src=\"https://colab.research.google.com/assets/colab-badge.svg\" alt=\"Open In Colab\"/></a>"
      ]
    },
    {
      "cell_type": "markdown",
      "id": "ce226d72",
      "metadata": {
        "id": "ce226d72"
      },
      "source": [
        "# ベクトルの内積と外積の理解\n",
        "---"
      ]
    },
    {
      "cell_type": "markdown",
      "id": "183bf437",
      "metadata": {
        "id": "183bf437"
      },
      "source": [
        "## 🎯 学習目的\n",
        "- ベクトルの内積（ドット積）の意味と計算方法を理解する\n",
        "- ベクトルの外積（クロス積）の意味と計算方法を理解する\n",
        "- 内積・外積が現実世界や計算でどのように使われるかを学ぶ"
      ]
    },
    {
      "cell_type": "markdown",
      "id": "aedf25cd",
      "metadata": {
        "id": "aedf25cd"
      },
      "source": [
        "## ✅ 内積の意味\n",
        "- イメージ：**「向きの近さ × 長さ」**\n",
        "- 数式：\\( \\vec{a} \\cdot \\vec{b} = |\\vec{a}||\\vec{b}|\\cos\\theta \\)\n",
        "- 特徴：\n",
        "  - 直交 → 0\n",
        "  - 同じ方向 → 最大\n",
        "  - 反対方向 → 負\n",
        "- 応用：\n",
        "  - 類似度計算（コサイン類似度）\n",
        "  - 直交性の判定\n",
        "  - 力の方向成分\n",
        "\n",
        "---"
      ]
    },
    {
      "cell_type": "code",
      "execution_count": null,
      "id": "22e84896",
      "metadata": {
        "colab": {
          "base_uri": "https://localhost:8080/"
        },
        "id": "22e84896",
        "outputId": "17eff208-789f-4006-9f7b-8d0dc3daf1ca"
      },
      "outputs": [
        {
          "output_type": "stream",
          "name": "stdout",
          "text": [
            "角度は 45.00 度\n"
          ]
        }
      ],
      "source": [
        "# 内積でベクトル間の角度を計算\n",
        "import numpy as np\n",
        "\n",
        "a = np.array([3, 1])\n",
        "b = np.array([2, 4])\n",
        "\n",
        "cos_theta = np.dot(a, b) / (np.linalg.norm(a) * np.linalg.norm(b))\n",
        "theta_rad = np.arccos(cos_theta)\n",
        "theta_deg = np.degrees(theta_rad)\n",
        "\n",
        "print(f\"角度は {theta_deg:.2f} 度\")"
      ]
    },
    {
      "cell_type": "markdown",
      "id": "2c7b7170",
      "metadata": {
        "id": "2c7b7170"
      },
      "source": [
        "## ✅ 外積の意味（3次元）\n",
        "- イメージ：**「面積と向きを持つベクトル」**\n",
        "- 数式：\\( \\vec{a} \\times \\vec{b} = |\\vec{a}||\\vec{b}|\\sin\\theta \\cdot \\vec{n} \\)\n",
        "- 特徴：\n",
        "  - 平面に垂直な方向に向く\n",
        "  - 張った平行四辺形の面積を表す\n",
        "- 応用：\n",
        "  - モーメント（回転）\n",
        "  - 面積計算\n",
        "  - 法線ベクトルの取得\n",
        "\n",
        "---"
      ]
    },
    {
      "cell_type": "code",
      "execution_count": null,
      "id": "3d66a0be",
      "metadata": {
        "colab": {
          "base_uri": "https://localhost:8080/"
        },
        "id": "3d66a0be",
        "outputId": "fb0aa440-b2e4-4af6-92f0-9bedb8fe0da6"
      },
      "outputs": [
        {
          "output_type": "stream",
          "name": "stdout",
          "text": [
            "外積のベクトル: [0 0 1]\n",
            "張る面積: 1.0\n"
          ]
        }
      ],
      "source": [
        "# 外積でベクトルの面積と方向を確認\n",
        "import numpy as np\n",
        "\n",
        "a = np.array([1, 0, 0])\n",
        "b = np.array([0, 1, 0])\n",
        "\n",
        "cross = np.cross(a, b)\n",
        "print(\"外積のベクトル:\", cross)\n",
        "print(\"張る面積:\", np.linalg.norm(cross))"
      ]
    },
    {
      "cell_type": "code",
      "source": [
        "import numpy as np\n",
        "\n",
        "a = np.array([1, 2])\n",
        "b = np.array( [4, -1] )\n",
        "\n",
        "cos_theta = np.dot(a, b) / (np.linalg.norm(a) * np.linalg.norm(b))\n",
        "theta_rad = np.arccos(cos_theta)\n",
        "theta_deg = np.degrees(theta_rad)\n",
        "\n",
        "print(f\"角度は {theta_deg:.2f} 度\")"
      ],
      "metadata": {
        "colab": {
          "base_uri": "https://localhost:8080/"
        },
        "id": "ndYf2-vpET77",
        "outputId": "7cb6566b-7218-456e-9a09-03463cc732cc"
      },
      "id": "ndYf2-vpET77",
      "execution_count": null,
      "outputs": [
        {
          "output_type": "stream",
          "name": "stdout",
          "text": [
            "角度は 77.47 度\n"
          ]
        }
      ]
    },
    {
      "cell_type": "code",
      "source": [
        "# 外積でベクトルの面積と方向を確認\n",
        "import numpy as np\n",
        "\n",
        "a = np.array([2, 3, 1] )\n",
        "b = np.array([-1, 0, 4])\n",
        "\n",
        "cross = np.cross(a, b)\n",
        "print(\"外積のベクトル:\", cross)\n",
        "print(\"張る面積:\", np.linalg.norm(cross))"
      ],
      "metadata": {
        "colab": {
          "base_uri": "https://localhost:8080/"
        },
        "id": "Nw0fubDcFDCE",
        "outputId": "5198d659-ef2f-46b1-90bf-52b292ae9e05"
      },
      "id": "Nw0fubDcFDCE",
      "execution_count": null,
      "outputs": [
        {
          "output_type": "stream",
          "name": "stdout",
          "text": [
            "外積のベクトル: [12 -9  3]\n",
            "張る面積: 15.297058540778355\n"
          ]
        }
      ]
    },
    {
      "cell_type": "markdown",
      "id": "6d073e51",
      "metadata": {
        "id": "6d073e51"
      },
      "source": [
        "## 📝 演習課題\n",
        "以下の問題を解いてみましょう。\n",
        "\n",
        "### 演習1：\n",
        "2つのベクトル \\( \\vec{a} = [1, 2] \\), \\( \\vec{b} = [4, -1] \\) の内積を計算し、角度を求めなさい。\n",
        "\n",
        "### 演習2：\n",
        "3次元ベクトル \\( \\vec{a} = [2, 3, 1] \\), \\( \\vec{b} = [-1, 0, 4] \\) の外積を計算し、ベクトルの向きと面積を確認しなさい。"
      ]
    }
  ],
  "metadata": {
    "colab": {
      "provenance": [],
      "include_colab_link": true
    },
    "language_info": {
      "name": "python"
    },
    "kernelspec": {
      "name": "python3",
      "display_name": "Python 3"
    }
  },
  "nbformat": 4,
  "nbformat_minor": 5
}