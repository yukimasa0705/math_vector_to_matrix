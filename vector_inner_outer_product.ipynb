{
  "cells": [
    {
      "cell_type": "markdown",
      "metadata": {
        "id": "view-in-github",
        "colab_type": "text"
      },
      "source": [
        "<a href=\"https://colab.research.google.com/github/yukimasa0705/math/blob/main/vector_inner_outer_product.ipynb\" target=\"_parent\"><img src=\"https://colab.research.google.com/assets/colab-badge.svg\" alt=\"Open In Colab\"/></a>"
      ]
    },
    {
      "cell_type": "markdown",
      "metadata": {
        "id": "5XVVdBkR_fHM"
      },
      "source": [
        "# ベクトルの内積と外積\n",
        "\n",
        "このノートでは、ベクトルの内積（ドット積）と外積（クロス積）について学びます。\n",
        "可視化や演習問題を通じて、数学的直感を身につけていきましょう。"
      ],
      "id": "5XVVdBkR_fHM"
    },
    {
      "cell_type": "code",
      "execution_count": null,
      "metadata": {
        "id": "nEni9rSM_fHP"
      },
      "outputs": [],
      "source": [
        "# ライブラリのインポート\n",
        "import numpy as np\n",
        "import matplotlib.pyplot as plt"
      ],
      "id": "nEni9rSM_fHP"
    },
    {
      "cell_type": "markdown",
      "metadata": {
        "id": "GdP35TGd_fHQ"
      },
      "source": [
        "## ベクトルの内積（ドット積）\n",
        "\n",
        "内積は、2つのベクトルがどれだけ同じ方向を向いているかを表します。\n",
        "$$\n",
        "\\vec{a} \\cdot \\vec{b} = |a||b|\\cos(\\theta)\n",
        "$$"
      ],
      "id": "GdP35TGd_fHQ"
    },
    {
      "cell_type": "code",
      "execution_count": null,
      "metadata": {
        "colab": {
          "base_uri": "https://localhost:8080/"
        },
        "id": "E5cVtjX0_fHR",
        "outputId": "7bfe7dc0-9499-4886-a507-d9307fabd941"
      },
      "outputs": [
        {
          "output_type": "stream",
          "name": "stdout",
          "text": [
            "ベクトルa: [2 3]\n",
            "ベクトルb: [4 1]\n",
            "内積 a・b = 11\n"
          ]
        }
      ],
      "source": [
        "# 内積の計算と直感的理解\n",
        "a = np.array([2, 3])\n",
        "b = np.array([4, 1])\n",
        "\n",
        "dot_product = np.dot(a, b)\n",
        "print(f\"ベクトルa: {a}\")\n",
        "print(f\"ベクトルb: {b}\")\n",
        "print(f\"内積 a・b = {dot_product}\")"
      ],
      "id": "E5cVtjX0_fHR"
    },
    {
      "cell_type": "markdown",
      "metadata": {
        "id": "iW1pa2Zo_fHR"
      },
      "source": [
        "### 【演習】内積の演習問題\n",
        "- ベクトル `[1, 2]` と `[3, 4]` の内積を求めてみよう。\n",
        "- ベクトルのなす角が直角（内積=0）となる例を探してみよう。"
      ],
      "id": "iW1pa2Zo_fHR"
    },
    {
      "cell_type": "code",
      "execution_count": null,
      "metadata": {
        "colab": {
          "base_uri": "https://localhost:8080/"
        },
        "id": "pMdty2nK_fHS",
        "outputId": "0c17b340-9676-416b-ab6c-b945eeb744a7"
      },
      "outputs": [
        {
          "output_type": "stream",
          "name": "stdout",
          "text": [
            "ベクトルa: [1 2]\n",
            "ベクトルb: [3 4]\n",
            "内積 a・b = 11\n",
            "ベクトルa: [1 1]\n",
            "ベクトルb: [ 1 -1]\n",
            "内積 a・b = 0\n"
          ]
        }
      ],
      "source": [
        "# ここに内積の演習を書いてみよう\n",
        "# 例:\n",
        "a = np.array([1, 2])\n",
        "b = np.array([3, 4])\n",
        "print(f\"ベクトルa: {a}\")\n",
        "print(f\"ベクトルb: {b}\")\n",
        "print(f\"内積 a・b = {np.dot(a, b)}\")\n",
        "\n",
        "a = np.array([1, 1])\n",
        "b = np.array([1, -1])\n",
        "print(f\"ベクトルa: {a}\")\n",
        "print(f\"ベクトルb: {b}\")\n",
        "print(f\"内積 a・b = {np.dot(a, b)}\")"
      ],
      "id": "pMdty2nK_fHS"
    },
    {
      "cell_type": "markdown",
      "metadata": {
        "id": "o9AMgzB-_fHS"
      },
      "source": [
        "## ベクトルの外積（クロス積）\n",
        "\n",
        "外積は、2つのベクトルが張る平行四辺形の面積や、方向ベクトルを求めるときに使います。\n",
        "※2次元の場合はスカラー（数値）になります。"
      ],
      "id": "o9AMgzB-_fHS"
    },
    {
      "cell_type": "code",
      "execution_count": null,
      "metadata": {
        "colab": {
          "base_uri": "https://localhost:8080/"
        },
        "id": "ueZwPaum_fHT",
        "outputId": "e3db48e1-fd74-4aac-ab6d-3b0f960e5b1f"
      },
      "outputs": [
        {
          "output_type": "stream",
          "name": "stdout",
          "text": [
            "ベクトルa: [1 2]\n",
            "ベクトルb: [2 1]\n",
            "外積 a×b = -3\n"
          ]
        },
        {
          "output_type": "stream",
          "name": "stderr",
          "text": [
            "<ipython-input-8-2eeb70d6d937>:5: DeprecationWarning: Arrays of 2-dimensional vectors are deprecated. Use arrays of 3-dimensional vectors instead. (deprecated in NumPy 2.0)\n",
            "  cross_product = np.cross(a, b)\n"
          ]
        }
      ],
      "source": [
        "# 外積（2次元での疑似スカラー）\n",
        "a = np.array([1, 2])\n",
        "b = np.array([2, 1])\n",
        "\n",
        "cross_product = np.cross(a, b)\n",
        "print(f\"ベクトルa: {a}\")\n",
        "print(f\"ベクトルb: {b}\")\n",
        "print(f\"外積 a×b = {cross_product}\")"
      ],
      "id": "ueZwPaum_fHT"
    },
    {
      "cell_type": "markdown",
      "metadata": {
        "id": "-IhMLkiE_fHT"
      },
      "source": [
        "### 【演習】外積の演習問題\n",
        "- ベクトル `[1, 0]` と `[0, 1]` の外積を求めてみよう。\n",
        "- 逆順（b×a）にするとどうなるかも確かめよう。"
      ],
      "id": "-IhMLkiE_fHT"
    },
    {
      "cell_type": "code",
      "execution_count": null,
      "metadata": {
        "colab": {
          "base_uri": "https://localhost:8080/"
        },
        "id": "l0E2L7m7_fHT",
        "outputId": "5dfcdc92-5a44-4efb-b1db-f5d5d971fb8b"
      },
      "outputs": [
        {
          "output_type": "stream",
          "name": "stdout",
          "text": [
            "ベクトルa: [1 0]\n",
            "ベクトルb: [0 1]\n",
            "外積 a×b = 1\n",
            "外積 b×a = -1\n"
          ]
        },
        {
          "output_type": "stream",
          "name": "stderr",
          "text": [
            "<ipython-input-7-c14f8d099e47>:7: DeprecationWarning: Arrays of 2-dimensional vectors are deprecated. Use arrays of 3-dimensional vectors instead. (deprecated in NumPy 2.0)\n",
            "  print(f\"外積 a×b = {np.cross(a, b)}\")\n",
            "<ipython-input-7-c14f8d099e47>:8: DeprecationWarning: Arrays of 2-dimensional vectors are deprecated. Use arrays of 3-dimensional vectors instead. (deprecated in NumPy 2.0)\n",
            "  print(f\"外積 b×a = {np.cross(b, a)}\")\n"
          ]
        }
      ],
      "source": [
        "# ここに外積の演習を書いてみよう\n",
        "# 例:\n",
        "a = np.array([1, 0])\n",
        "b = np.array([0, 1])\n",
        "print(f\"ベクトルa: {a}\")\n",
        "print(f\"ベクトルb: {b}\")\n",
        "print(f\"外積 a×b = {np.cross(a, b)}\")\n",
        "print(f\"外積 b×a = {np.cross(b, a)}\")"
      ],
      "id": "l0E2L7m7_fHT"
    }
  ],
  "metadata": {
    "kernelspec": {
      "display_name": "Python 3",
      "language": "python",
      "name": "python3"
    },
    "language_info": {
      "name": "python",
      "version": "3.8"
    },
    "colab": {
      "provenance": [],
      "include_colab_link": true
    }
  },
  "nbformat": 4,
  "nbformat_minor": 5
}